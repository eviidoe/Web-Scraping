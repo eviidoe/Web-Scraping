{
  "nbformat": 4,
  "nbformat_minor": 0,
  "metadata": {
    "colab": {
      "name": "creates_search_urls.ipynb",
      "provenance": [],
      "collapsed_sections": [],
      "authorship_tag": "ABX9TyOMx9gGWq12O14EXoKD0IMb",
      "include_colab_link": true
    },
    "kernelspec": {
      "name": "python3",
      "display_name": "Python 3"
    },
    "language_info": {
      "name": "python"
    }
  },
  "cells": [
    {
      "cell_type": "markdown",
      "metadata": {
        "id": "view-in-github",
        "colab_type": "text"
      },
      "source": [
        "<a href=\"https://colab.research.google.com/github/eviidoe/Web-Scraping/blob/main/creates_search_urls.ipynb\" target=\"_parent\"><img src=\"https://colab.research.google.com/assets/colab-badge.svg\" alt=\"Open In Colab\"/></a>"
      ]
    },
    {
      "cell_type": "code",
      "metadata": {
        "id": "SMUgBBoL5nBX"
      },
      "source": [
        "f = open('search_urls.txt', 'w+')\n",
        "url = 'https://www.amazon.de/s?k=prozessor&rh=n%3A17453196031&dc&language=en&qid=1631010483&rnid=1703609031&ref=sr_nr_n_1'\n",
        "f.write(url)\n",
        "f.write('\\n')\n",
        "\n",
        "\n",
        "for i in range(2, 55):\n",
        "    url = 'https://www.amazon.de/s?k=prozessor&i=computers&rh=n%3A17453196031&dc&page=' + str(i) + '&qid=1594555641&ref=sr_pg_' + str(i)\n",
        "    f.write(url)\n",
        "    f.write('\\n')\n",
        "\n",
        "f.close()"
      ],
      "execution_count": 3,
      "outputs": []
    }
  ]
}